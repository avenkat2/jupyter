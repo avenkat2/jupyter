{
 "cells": [
  {
   "cell_type": "markdown",
   "metadata": {},
   "source": [
    "# Exercise 1 - Web scrapping:\n",
    "Please go to the SEC EDGAR database and find the 10-K annual filings for the companies listed\n",
    "below for the year 2000. From the filings, identify \"Item 3. Legal Proceedings\" section and scrap the\n",
    "contents of that section."
   ]
  },
  {
   "cell_type": "code",
   "execution_count": 1,
   "metadata": {
    "scrolled": true
   },
   "outputs": [
    {
     "name": "stdout",
     "output_type": "stream",
     "text": [
      "['name', 'cik', 'fiscal', 'filing', 'section_name', 'section_text']\n",
      "['AHT CORP', '0001002628', 'DEC-31-1999', '10-K', 'ITEM 4', '\\n\\nFrom July 1 through August 17, 1998, eleven putative class actions were filed in\\nthe United States District Court for the Southern District of New York, all of\\nwhich have been consolidated under the caption In re Advanced Health Corporation\\nSecurities Litigation (the \"Class Action\"). The consolidated complaint, filed in\\nFebruary 1999, alleged that the Company and its current or former officers or\\ndirectors, Jonathan Edelson, M.D., Steven Hochberg, Alan B. Masarek, Robert\\nAlger and Michael W. Rogers are liable for certain misrepresentations and\\nomissions regarding, among other matters, the Company\\'s operations, performance,\\nand financial condition. The consolidated class action complaint sought, among\\nother remedies, certification as a class action and unspecified damages.\\n\\nOn January 27, 2000, the Company agreed to a settlement of the Class Action,\\npursuant to which the Company has deposited $300,000 in escrow to cover the\\ncosts of notice to the class, administration of the settlement and plaintiff\\nattorneys\\' expenses and will, upon final approval of the settlement, issue\\n886,437 shares of common stock to class members and class counsel (subject to\\npossible enhancement if the Company\\'s stock price drops below a certain level or\\nif the Company authorizes and issues additional stock). The settlement is\\nsubject to the District Court\\'s approval. The Court has scheduled a hearing on\\nthe settlement for April 18, 2000.\\n\\n']\n",
      "['KAISER GROUP INTERNATIONAL INC', '0000856200', 'DEC-31-1999', '10-K', 'ITEM 4', \"In the course of Kaiser's normal business activities, various claims or\\ncharges have been asserted and litigation commenced against Kaiser arising from\\nor related to properties, injuries to persons, and breaches of contract, as well\\nas claims related to acquisitions and dispositions.  Claimed amounts may not\\nbear any reasonable relationship to the merits of the claim or to a final court\\naward.  In the opinion of management, an adequate reserve has been provided for\\nfinal judgments, if any, in excess of insurance coverage, that might be rendered\\nagainst Kaiser in the event of litigation.  See Note 15 to the consolidated\\nfinancial statements included in this Report.\"]\n"
     ]
    }
   ],
   "source": [
    "from urllib.request import urlopen\n",
    "import csv\n",
    "import re\n",
    "\n",
    "# Setting variables so that we can reuse them and maintain them\n",
    "target_url1='https://www.sec.gov/Archives/edgar/data/1002628/000095012300003679/0000950123-00-003679.txt'\n",
    "target_url2='https://www.sec.gov/Archives/edgar/data/856200/000092838500001186/0000928385-00-001186.txt'\n",
    "sText=re.search('ITEM 3. LEGAL PROCEEDINGS', 'Item 3.  Legal Proceedings', re.IGNORECASE)\n",
    "name_s='COMPANY CONFORMED NAME:'\n",
    "name_e='CENTRAL'\n",
    "cik_s='CENTRAL INDEX KEY:'\n",
    "cik_e='STANDARD INDUSTRIAL CLASSIFICATION:'\n",
    "fiscal_s='<FISCAL-YEAR-END> '\n",
    "fiscal_e='<PERIOD-'\n",
    "filing_s='FORM TYPE:'\n",
    "filing_e='SEC ACT:'\n",
    "\n",
    "# Function to extract data from a specified start to end\n",
    "def extractData(target_url, startPattern1, endPattern1):\n",
    "    raw_data = urlopen(target_url).read().decode('utf-8')\n",
    "    start1=raw_data.find(startPattern1)+len(startPattern1)\n",
    "    end1 = raw_data.find(endPattern1,start1)\n",
    "    return(raw_data[start1:end1])\n",
    "\n",
    "# Calling exctractData to select the required text for url 1\n",
    "name1=extractData(target_url1, name_s, name_e).strip()\n",
    "cik1=extractData(target_url1, cik_s, cik_e).strip()\n",
    "fiscal1=extractData(target_url1, fiscal_s, fiscal_e).strip()\n",
    "filing1=extractData(target_url1, filing_s, filing_e).strip()\n",
    "section_name1='ITEM 4'\n",
    "section_text1=extractData(target_url1, 'ITEM 3. LEGAL PROCEEDINGS', 'ITEM 4.')\n",
    "\n",
    "\n",
    "# Calling exctractData to select the required text for url 2\n",
    "name2=extractData(target_url2, name_s, name_e).strip()\n",
    "cik2=extractData(target_url2, cik_s, cik_e).strip()\n",
    "fiscal2=extractData(target_url2, fiscal_s, fiscal_e).strip()\n",
    "filing2=extractData(target_url2, filing_s, filing_e).strip()\n",
    "section_name2='ITEM 4'\n",
    "section_text2=extractData(target_url2, 'Item 3.  Legal Proceedings', 'Item 4.').strip()\n",
    "\n",
    "# Writing to a csv file\n",
    "with open('results.csv', 'w') as csvfile:\n",
    "    fieldnames = ['name', 'cik', 'fiscal', 'filing', 'section_name', 'section_text']\n",
    "    writer = csv.DictWriter(csvfile, fieldnames=fieldnames)\n",
    "\n",
    "    writer.writeheader()\n",
    "    writer.writerow({'name': name1, 'cik': cik1, 'fiscal':fiscal1, 'filing':filing1, 'section_name':section_name1,\n",
    "                     'section_text':section_text1})\n",
    "    writer.writerow({'name': name2, 'cik': cik2, 'fiscal':fiscal2, 'filing':filing2, 'section_name':section_name2,\n",
    "                     'section_text':section_text2})\n",
    "        \n",
    "# Printing the created csv file     \n",
    "with open('results.csv') as f:\n",
    "    reader = csv.reader(f)\n",
    "    for row in reader:\n",
    "        print(row)\n",
    "        "
   ]
  },
  {
   "cell_type": "markdown",
   "metadata": {},
   "source": [
    "NOTE: The csv 'results.csv' will be in the parent folder where this python notebook file is saved. If python notebook is not available. Please run the same code in another editor."
   ]
  }
 ],
 "metadata": {
  "kernelspec": {
   "display_name": "Python 3",
   "language": "python",
   "name": "python3"
  },
  "language_info": {
   "codemirror_mode": {
    "name": "ipython",
    "version": 3
   },
   "file_extension": ".py",
   "mimetype": "text/x-python",
   "name": "python",
   "nbconvert_exporter": "python",
   "pygments_lexer": "ipython3",
   "version": "3.6.5"
  }
 },
 "nbformat": 4,
 "nbformat_minor": 2
}
