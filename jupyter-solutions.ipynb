{
 "cells": [
  {
   "cell_type": "markdown",
   "metadata": {},
   "source": [
    "<h1 align=\"center\"> \n",
    "Summer 2018, Python Take-Home Exam\n",
    "</h1>\n",
    "\n",
    "<h3 align=\"center\"> \n",
    "Data Science @ George Washington University\n",
    "</h3>"
   ]
  },
  {
   "cell_type": "markdown",
   "metadata": {},
   "source": [
    "## Note\n",
    "- Implement the parts denoted by # Implement me.\n",
    "- We expect you to follow a reasonable programming style. While we do not mandate a specific style, we require that your code to be neat, clear, **documented/commented** and above all consistent.\n",
    "- For in-class exam, **marks will be deducted if the above requirements are not followed.**"
   ]
  },
  {
   "cell_type": "markdown",
   "metadata": {},
   "source": [
    "## Part 1: List\n",
    "- Numpy cannot be used for implementing the functions in this section"
   ]
  },
  {
   "cell_type": "markdown",
   "metadata": {},
   "source": [
    "### 1.1 Implement the function"
   ]
  },
  {
   "cell_type": "code",
   "execution_count": 11,
   "metadata": {},
   "outputs": [],
   "source": [
    "def fun_list(list_, x):\n",
    "    \"\"\"\n",
    "    Create a list where the elements are the odd numbers in the input list, raised to some power\n",
    "    \n",
    "    Parameters\n",
    "    ----------\n",
    "    list_ : the input list\n",
    "    x : an integer\n",
    "    \n",
    "    Returns\n",
    "    ----------\n",
    "    A list where the elements are the odd numbers in list_, raised to the power of x\n",
    "    \n",
    "    \"\"\"\n",
    "    \n",
    "    # Implement me\n",
    "    # Create empty list\n",
    "    oddList = []\n",
    "    # Loop through the list\n",
    "    for num in list_:\n",
    "        # If the number is odd add the odd number raised to the power x to the list\n",
    "        if num % 2 != 0:\n",
    "            oddList.append(num ** x)\n",
    "    return oddList"
   ]
  },
  {
   "cell_type": "markdown",
   "metadata": {},
   "source": [
    "### 1.1 Test the function"
   ]
  },
  {
   "cell_type": "code",
   "execution_count": 12,
   "metadata": {},
   "outputs": [
    {
     "name": "stdout",
     "output_type": "stream",
     "text": [
      "[1, 9]\n",
      "[27, 125]\n"
     ]
    }
   ],
   "source": [
    "list1 = [1, 2, 3, 4]\n",
    "list2 = [2, 3, 4, 5]\n",
    "\n",
    "print(fun_list(list1, 2))\n",
    "print(fun_list(list2, 3))"
   ]
  },
  {
   "cell_type": "markdown",
   "metadata": {},
   "source": [
    "### 1.2 Implement the function"
   ]
  },
  {
   "cell_type": "code",
   "execution_count": 30,
   "metadata": {},
   "outputs": [],
   "source": [
    "def inner_prod_list(list1, list2):\n",
    "    \"\"\"\n",
    "    Calculate the inner product (a.k.a., dot product) of two lists\n",
    "    Here, inner product is the sum of the products of the corresponding entries of the two sequences of numbers\n",
    "    For two lists [1, 2, 3, 4] and [2, 3, 4, 5], the inner product is 1 * 2 + 2 * 3 + 3 * 4 + 4 * 5 = 40\n",
    "    See details below:\n",
    "    https://en.wikipedia.org/wiki/Dot_product\n",
    "    \n",
    "    Parameters\n",
    "    ----------\n",
    "    list1 and list2 : the input lists\n",
    "    \n",
    "    Returns\n",
    "    ----------\n",
    "    The inner product of list1 and list2\n",
    "    \n",
    "    \"\"\"\n",
    "    \n",
    "    # Implement me\n",
    "    result = 0\n",
    "    # Create a tuple of the values of corresponding index\n",
    "    for i,j in zip(list1, list2):\n",
    "        # Multiple the tuple value and add it to the sum\n",
    "        result = result + i*j\n",
    "    return result"
   ]
  },
  {
   "cell_type": "markdown",
   "metadata": {},
   "source": [
    "### 1.2 Test the function"
   ]
  },
  {
   "cell_type": "code",
   "execution_count": 31,
   "metadata": {},
   "outputs": [
    {
     "name": "stdout",
     "output_type": "stream",
     "text": [
      "40\n"
     ]
    }
   ],
   "source": [
    "list1 = [1, 2, 3, 4]\n",
    "list2 = [2, 3, 4, 5]\n",
    "\n",
    "print(inner_prod_list(list1, list2))"
   ]
  },
  {
   "cell_type": "markdown",
   "metadata": {},
   "source": [
    "## Part 2: Numpy array\n",
    "- List cannot be used for implementing the functions in this section"
   ]
  },
  {
   "cell_type": "markdown",
   "metadata": {},
   "source": [
    "### 2.1 Implement the function"
   ]
  },
  {
   "cell_type": "code",
   "execution_count": 110,
   "metadata": {},
   "outputs": [],
   "source": [
    "def fun_array(array_, x):\n",
    "    \"\"\"\n",
    "    Create an array where the elements are the odd numbers in the input array, raised to some power\n",
    "    \n",
    "    Parameters\n",
    "    ----------\n",
    "    array_ : the input array\n",
    "    x : an integer\n",
    "    \n",
    "    Returns\n",
    "    ----------\n",
    "    An array where the elements are the odd numbers in array_, raised to the power of x\n",
    "    \n",
    "    \"\"\"\n",
    "    \n",
    "    # Implement me\n",
    "    # Identify the odd numbers in the array and raise it power of x\n",
    "    return np.power(array_[array_ % 2 == 1], x)"
   ]
  },
  {
   "cell_type": "markdown",
   "metadata": {},
   "source": [
    "### 2.1 Test the function"
   ]
  },
  {
   "cell_type": "code",
   "execution_count": 111,
   "metadata": {},
   "outputs": [
    {
     "name": "stdout",
     "output_type": "stream",
     "text": [
      "[1 9]\n",
      "[ 27 125]\n"
     ]
    }
   ],
   "source": [
    "import numpy as np\n",
    "\n",
    "array1 = np.array([1, 2, 3, 4])\n",
    "array2 = np.array([2, 3, 4, 5])\n",
    "\n",
    "print(fun_array(array1, 2))\n",
    "print(fun_array(array2, 3))"
   ]
  },
  {
   "cell_type": "markdown",
   "metadata": {},
   "source": [
    "### 2.2 Implement the function"
   ]
  },
  {
   "cell_type": "code",
   "execution_count": 112,
   "metadata": {},
   "outputs": [],
   "source": [
    "def inner_prod_array(array1, array2):\n",
    "    \"\"\"\n",
    "    Calculate the inner product (a.k.a., dot product) of two arrays\n",
    "    Here, inner product is the sum of the products of the corresponding entries of the two sequences of numbers\n",
    "    For two arrays [1, 2, 3, 4] and [2, 3, 4, 5], the inner product is 1 * 2 + 2 * 3 + 3 * 4 + 4 * 5 = 40\n",
    "    See details below:\n",
    "    https://en.wikipedia.org/wiki/Dot_product\n",
    "    \n",
    "    Parameters\n",
    "    ----------\n",
    "    array1 and array2 : the input arrays\n",
    "    \n",
    "    Returns\n",
    "    ----------\n",
    "    The inner product of array1 and array2\n",
    "    \n",
    "    \"\"\"\n",
    "    \n",
    "    # Implement me\n",
    "    # Multiply the corresponding values of the two array and sum the result\n",
    "    return (array1 * array2).sum()"
   ]
  },
  {
   "cell_type": "markdown",
   "metadata": {},
   "source": [
    "### 2.2 Test the function"
   ]
  },
  {
   "cell_type": "code",
   "execution_count": 113,
   "metadata": {},
   "outputs": [
    {
     "name": "stdout",
     "output_type": "stream",
     "text": [
      "40\n"
     ]
    }
   ],
   "source": [
    "array1 = np.array([1, 2, 3, 4])\n",
    "array2 = np.array([2, 3, 4, 5])\n",
    "\n",
    "print(inner_prod_array(array1, array2))"
   ]
  },
  {
   "cell_type": "markdown",
   "metadata": {},
   "source": [
    "## Part 3: Dictionary"
   ]
  },
  {
   "cell_type": "markdown",
   "metadata": {},
   "source": [
    "### 3.1 Implement the function"
   ]
  },
  {
   "cell_type": "code",
   "execution_count": 36,
   "metadata": {},
   "outputs": [],
   "source": [
    "def sort_unique(array_):\n",
    "    \"\"\"\n",
    "    1. Sort an array in descending order of each element's frequency\n",
    "    2. Remove the redundant elements from the sorted array\n",
    "    \n",
    "    Parameters\n",
    "    ----------\n",
    "    array_ : the input array\n",
    "    \n",
    "    Returns\n",
    "    ----------\n",
    "    An array that satisfies the above two conditions\n",
    "    \n",
    "    \"\"\"\n",
    "    \n",
    "    # Implement me\n",
    "    #u, count = np.unique(array_, return_counts=True)\n",
    "    #count_sort_ind = np.argsort(-count)\n",
    "    #return u[count_sort_ind]\n",
    "\n",
    "    # Create an empty dictionary\n",
    "    dict = {}\n",
    "    # Create a dictionary with value and its frequency\n",
    "    for x in array_ :\n",
    "        if x in dict :\n",
    "            dict[x] +=1\n",
    "        else:\n",
    "            dict[x] = 1\n",
    "    # Sort the dictionary items in descending order\n",
    "    sort_list = sorted(dict.items(), key=lambda v: v[1], reverse=True)\n",
    "    return [i[0] for i in sort_list]"
   ]
  },
  {
   "cell_type": "markdown",
   "metadata": {
    "collapsed": true
   },
   "source": [
    "### 3.1 Test the function"
   ]
  },
  {
   "cell_type": "code",
   "execution_count": 37,
   "metadata": {
    "scrolled": false
   },
   "outputs": [
    {
     "name": "stdout",
     "output_type": "stream",
     "text": [
      "[4, 2, 3, 1]\n"
     ]
    }
   ],
   "source": [
    "array_ = np.array([1, 2, 2, 2, 3, 3, 4, 4, 4, 4])\n",
    "print(sort_unique(array_))"
   ]
  },
  {
   "cell_type": "markdown",
   "metadata": {},
   "source": [
    "### 3.2 Implement the function"
   ]
  },
  {
   "cell_type": "code",
   "execution_count": 46,
   "metadata": {},
   "outputs": [],
   "source": [
    "def find_common(list1, list2):\n",
    "    \"\"\"\n",
    "    Find the common elements between two long lists\n",
    "    \n",
    "    Parameters\n",
    "    ----------\n",
    "    list1 and list2 : the input long lists\n",
    "    \n",
    "    Returns\n",
    "    ----------\n",
    "    The list of common elements between list1 and list2\n",
    "    \n",
    "    \"\"\"\n",
    "    \n",
    "    # Implement me\n",
    "    #return list(set(list1).intersection(list2))\n",
    "    \n",
    "    # Create a tuple of corresponding elements in each list and return only if they are equal to each other\n",
    "    return [i for i, j in zip(list1, list2) if i == j]\n"
   ]
  },
  {
   "cell_type": "markdown",
   "metadata": {},
   "source": [
    "### 3.2 Test the function"
   ]
  },
  {
   "cell_type": "code",
   "execution_count": 49,
   "metadata": {},
   "outputs": [
    {
     "name": "stdout",
     "output_type": "stream",
     "text": [
      "Elapsed time:  0.09706687927246094\n",
      "If the elapsed time is higher than 10, please consider using dictionary to speed it up.\n"
     ]
    }
   ],
   "source": [
    "import time\n",
    "\n",
    "list1, list2 = list(range(10 ** 6)), list(range(10 ** 6))\n",
    "\n",
    "start_time = time.time()\n",
    "\n",
    "find_common(list1, list2)\n",
    "\n",
    "print('Elapsed time: ', time.time() - start_time)\n",
    "\n",
    "print('If the elapsed time is higher than 10, please consider using dictionary to speed it up.')"
   ]
  },
  {
   "cell_type": "markdown",
   "metadata": {},
   "source": [
    "## Part 4: Pandas dataframe\n",
    "- The built-in get_dummies function cannot be used for implementing the functions in this section"
   ]
  },
  {
   "cell_type": "markdown",
   "metadata": {},
   "source": [
    "### 4.1 Implement the function"
   ]
  },
  {
   "cell_type": "code",
   "execution_count": 90,
   "metadata": {},
   "outputs": [],
   "source": [
    "def get_dummies_(df, columns):\n",
    "    \"\"\"\n",
    "    One hot encoding, which transforms the categorical features into feature_value pairs.\n",
    "    For example, for categorical feature 'Color' with the following three values:\n",
    "    1. 'Red'\n",
    "    2. 'Yellow'\n",
    "    3. 'Green'\n",
    "    one hot encoding transforms the feature into the following three feature_value paris:\n",
    "    1. 'Color_Red'\n",
    "    2. 'Color_Yellow'\n",
    "    3. 'Color_Green'\n",
    "    Here is a nice introduction of one hot encoding:\n",
    "    https://www.kaggle.com/dansbecker/using-categorical-data-with-one-hot-encoding\n",
    "    \n",
    "    Parameters\n",
    "    ----------\n",
    "    df : the input dataframe\n",
    "    columns : the categorical features\n",
    "    \n",
    "    Returns\n",
    "    ----------\n",
    "    A dataframe where the categorical features in df are transformed using one hot encoding\n",
    "    \n",
    "    \"\"\"\n",
    "    \n",
    "    # Implement me\n",
    "    #df = pd.get_dummies(data=df, columns = columns)\n",
    "    #return df\n",
    "    \n",
    "    # Iterate through columns \n",
    "    for column in columns :\n",
    "        # Sort unique values in the columns and iterate\n",
    "        uniques = sorted(df[column].unique())\n",
    "        for unique in uniques :\n",
    "            # Create new column by appending the unique value\n",
    "            categorical_col = column+'_'+unique\n",
    "            # Broadcast 1 for rows where value exists else 0\n",
    "            df[categorical_col] = [1 if x == unique else 0 for x in df[column]]\n",
    "    # Drop the original columns\n",
    "    df = df.drop(columns, axis=1)\n",
    "    return df"
   ]
  },
  {
   "cell_type": "markdown",
   "metadata": {},
   "source": [
    "### 4.1 Test the function"
   ]
  },
  {
   "cell_type": "code",
   "execution_count": 91,
   "metadata": {
    "scrolled": true
   },
   "outputs": [
    {
     "data": {
      "text/html": [
       "<div>\n",
       "<style scoped>\n",
       "    .dataframe tbody tr th:only-of-type {\n",
       "        vertical-align: middle;\n",
       "    }\n",
       "\n",
       "    .dataframe tbody tr th {\n",
       "        vertical-align: top;\n",
       "    }\n",
       "\n",
       "    .dataframe thead th {\n",
       "        text-align: right;\n",
       "    }\n",
       "</style>\n",
       "<table border=\"1\" class=\"dataframe\">\n",
       "  <thead>\n",
       "    <tr style=\"text-align: right;\">\n",
       "      <th></th>\n",
       "      <th>buying</th>\n",
       "      <th>maint</th>\n",
       "      <th>doors</th>\n",
       "      <th>persons</th>\n",
       "      <th>lug_boot</th>\n",
       "      <th>safety</th>\n",
       "      <th>target</th>\n",
       "    </tr>\n",
       "  </thead>\n",
       "  <tbody>\n",
       "    <tr>\n",
       "      <th>0</th>\n",
       "      <td>vhigh</td>\n",
       "      <td>vhigh</td>\n",
       "      <td>2</td>\n",
       "      <td>2</td>\n",
       "      <td>small</td>\n",
       "      <td>low</td>\n",
       "      <td>unacc</td>\n",
       "    </tr>\n",
       "    <tr>\n",
       "      <th>1</th>\n",
       "      <td>vhigh</td>\n",
       "      <td>vhigh</td>\n",
       "      <td>2</td>\n",
       "      <td>2</td>\n",
       "      <td>small</td>\n",
       "      <td>med</td>\n",
       "      <td>unacc</td>\n",
       "    </tr>\n",
       "    <tr>\n",
       "      <th>2</th>\n",
       "      <td>vhigh</td>\n",
       "      <td>vhigh</td>\n",
       "      <td>2</td>\n",
       "      <td>2</td>\n",
       "      <td>small</td>\n",
       "      <td>high</td>\n",
       "      <td>unacc</td>\n",
       "    </tr>\n",
       "    <tr>\n",
       "      <th>3</th>\n",
       "      <td>vhigh</td>\n",
       "      <td>vhigh</td>\n",
       "      <td>2</td>\n",
       "      <td>2</td>\n",
       "      <td>med</td>\n",
       "      <td>low</td>\n",
       "      <td>unacc</td>\n",
       "    </tr>\n",
       "    <tr>\n",
       "      <th>4</th>\n",
       "      <td>vhigh</td>\n",
       "      <td>vhigh</td>\n",
       "      <td>2</td>\n",
       "      <td>2</td>\n",
       "      <td>med</td>\n",
       "      <td>med</td>\n",
       "      <td>unacc</td>\n",
       "    </tr>\n",
       "  </tbody>\n",
       "</table>\n",
       "</div>"
      ],
      "text/plain": [
       "  buying  maint doors persons lug_boot safety target\n",
       "0  vhigh  vhigh     2       2    small    low  unacc\n",
       "1  vhigh  vhigh     2       2    small    med  unacc\n",
       "2  vhigh  vhigh     2       2    small   high  unacc\n",
       "3  vhigh  vhigh     2       2      med    low  unacc\n",
       "4  vhigh  vhigh     2       2      med    med  unacc"
      ]
     },
     "execution_count": 91,
     "metadata": {},
     "output_type": "execute_result"
    }
   ],
   "source": [
    "import pandas as pd\n",
    "\n",
    "# Load the UCI Car data\n",
    "df = pd.read_csv('https://archive.ics.uci.edu/ml/machine-learning-databases/car/car.data', \n",
    "                 names=['buying', 'maint', 'doors', 'persons', 'lug_boot', 'safety', 'target'],\n",
    "                 header=None)\n",
    "\n",
    "df.head()"
   ]
  },
  {
   "cell_type": "code",
   "execution_count": 92,
   "metadata": {},
   "outputs": [
    {
     "data": {
      "text/html": [
       "<div>\n",
       "<style scoped>\n",
       "    .dataframe tbody tr th:only-of-type {\n",
       "        vertical-align: middle;\n",
       "    }\n",
       "\n",
       "    .dataframe tbody tr th {\n",
       "        vertical-align: top;\n",
       "    }\n",
       "\n",
       "    .dataframe thead th {\n",
       "        text-align: right;\n",
       "    }\n",
       "</style>\n",
       "<table border=\"1\" class=\"dataframe\">\n",
       "  <thead>\n",
       "    <tr style=\"text-align: right;\">\n",
       "      <th></th>\n",
       "      <th>doors</th>\n",
       "      <th>persons</th>\n",
       "      <th>target</th>\n",
       "      <th>buying_high</th>\n",
       "      <th>buying_low</th>\n",
       "      <th>buying_med</th>\n",
       "      <th>buying_vhigh</th>\n",
       "      <th>maint_high</th>\n",
       "      <th>maint_low</th>\n",
       "      <th>maint_med</th>\n",
       "      <th>maint_vhigh</th>\n",
       "      <th>lug_boot_big</th>\n",
       "      <th>lug_boot_med</th>\n",
       "      <th>lug_boot_small</th>\n",
       "      <th>safety_high</th>\n",
       "      <th>safety_low</th>\n",
       "      <th>safety_med</th>\n",
       "    </tr>\n",
       "  </thead>\n",
       "  <tbody>\n",
       "    <tr>\n",
       "      <th>0</th>\n",
       "      <td>2</td>\n",
       "      <td>2</td>\n",
       "      <td>unacc</td>\n",
       "      <td>0</td>\n",
       "      <td>0</td>\n",
       "      <td>0</td>\n",
       "      <td>1</td>\n",
       "      <td>0</td>\n",
       "      <td>0</td>\n",
       "      <td>0</td>\n",
       "      <td>1</td>\n",
       "      <td>0</td>\n",
       "      <td>0</td>\n",
       "      <td>1</td>\n",
       "      <td>0</td>\n",
       "      <td>1</td>\n",
       "      <td>0</td>\n",
       "    </tr>\n",
       "    <tr>\n",
       "      <th>1</th>\n",
       "      <td>2</td>\n",
       "      <td>2</td>\n",
       "      <td>unacc</td>\n",
       "      <td>0</td>\n",
       "      <td>0</td>\n",
       "      <td>0</td>\n",
       "      <td>1</td>\n",
       "      <td>0</td>\n",
       "      <td>0</td>\n",
       "      <td>0</td>\n",
       "      <td>1</td>\n",
       "      <td>0</td>\n",
       "      <td>0</td>\n",
       "      <td>1</td>\n",
       "      <td>0</td>\n",
       "      <td>0</td>\n",
       "      <td>1</td>\n",
       "    </tr>\n",
       "    <tr>\n",
       "      <th>2</th>\n",
       "      <td>2</td>\n",
       "      <td>2</td>\n",
       "      <td>unacc</td>\n",
       "      <td>0</td>\n",
       "      <td>0</td>\n",
       "      <td>0</td>\n",
       "      <td>1</td>\n",
       "      <td>0</td>\n",
       "      <td>0</td>\n",
       "      <td>0</td>\n",
       "      <td>1</td>\n",
       "      <td>0</td>\n",
       "      <td>0</td>\n",
       "      <td>1</td>\n",
       "      <td>1</td>\n",
       "      <td>0</td>\n",
       "      <td>0</td>\n",
       "    </tr>\n",
       "    <tr>\n",
       "      <th>3</th>\n",
       "      <td>2</td>\n",
       "      <td>2</td>\n",
       "      <td>unacc</td>\n",
       "      <td>0</td>\n",
       "      <td>0</td>\n",
       "      <td>0</td>\n",
       "      <td>1</td>\n",
       "      <td>0</td>\n",
       "      <td>0</td>\n",
       "      <td>0</td>\n",
       "      <td>1</td>\n",
       "      <td>0</td>\n",
       "      <td>1</td>\n",
       "      <td>0</td>\n",
       "      <td>0</td>\n",
       "      <td>1</td>\n",
       "      <td>0</td>\n",
       "    </tr>\n",
       "    <tr>\n",
       "      <th>4</th>\n",
       "      <td>2</td>\n",
       "      <td>2</td>\n",
       "      <td>unacc</td>\n",
       "      <td>0</td>\n",
       "      <td>0</td>\n",
       "      <td>0</td>\n",
       "      <td>1</td>\n",
       "      <td>0</td>\n",
       "      <td>0</td>\n",
       "      <td>0</td>\n",
       "      <td>1</td>\n",
       "      <td>0</td>\n",
       "      <td>1</td>\n",
       "      <td>0</td>\n",
       "      <td>0</td>\n",
       "      <td>0</td>\n",
       "      <td>1</td>\n",
       "    </tr>\n",
       "  </tbody>\n",
       "</table>\n",
       "</div>"
      ],
      "text/plain": [
       "  doors persons target  buying_high  buying_low  buying_med  buying_vhigh  \\\n",
       "0     2       2  unacc            0           0           0             1   \n",
       "1     2       2  unacc            0           0           0             1   \n",
       "2     2       2  unacc            0           0           0             1   \n",
       "3     2       2  unacc            0           0           0             1   \n",
       "4     2       2  unacc            0           0           0             1   \n",
       "\n",
       "   maint_high  maint_low  maint_med  maint_vhigh  lug_boot_big  lug_boot_med  \\\n",
       "0           0          0          0            1             0             0   \n",
       "1           0          0          0            1             0             0   \n",
       "2           0          0          0            1             0             0   \n",
       "3           0          0          0            1             0             1   \n",
       "4           0          0          0            1             0             1   \n",
       "\n",
       "   lug_boot_small  safety_high  safety_low  safety_med  \n",
       "0               1            0           1           0  \n",
       "1               1            0           0           1  \n",
       "2               1            1           0           0  \n",
       "3               0            0           1           0  \n",
       "4               0            0           0           1  "
      ]
     },
     "metadata": {},
     "output_type": "display_data"
    }
   ],
   "source": [
    "# The categorical features\n",
    "columns = ['buying', 'maint', 'lug_boot', 'safety']\n",
    "\n",
    "display(get_dummies_(df, columns).head())"
   ]
  },
  {
   "cell_type": "markdown",
   "metadata": {},
   "source": [
    "## Part 5: Matplotlib scatterplot"
   ]
  },
  {
   "cell_type": "markdown",
   "metadata": {},
   "source": [
    "### 5.1 Implement the function"
   ]
  },
  {
   "cell_type": "code",
   "execution_count": 106,
   "metadata": {},
   "outputs": [],
   "source": [
    "def scatter_plot(df, feature_x, feature_y, target, labels, colors, markers):\n",
    "    \"\"\"\n",
    "    The scatter plot between feature_x and feature_y\n",
    "    \n",
    "    Parameters\n",
    "    ----------\n",
    "    df : the input dataframe\n",
    "    feature_x, feature_y : the feature for x and y axis (in the scatter plot)\n",
    "    target : the target\n",
    "    labels : the class labels of the target\n",
    "    colors : the color for each class label\n",
    "    markers : the marker for each class label\n",
    "    \n",
    "    \"\"\"\n",
    "        \n",
    "    # Implement me\n",
    "    # Loop through all of the data to split it with respect to target\n",
    "    for i in range(len(labels)):\n",
    "        df1 = df.loc[df['Target'] == labels[i]]\n",
    "        # Plot the graph for only the specified target\n",
    "        plt.scatter(df1[feature_x], df1[feature_y], label = labels[i], color = colors[i], marker = markers[i], s= 100)\n",
    "        plt.legend()\n",
    "        plt.xlabel('Petal length')\n",
    "        plt.ylabel('Petal width')\n",
    "    "
   ]
  },
  {
   "cell_type": "markdown",
   "metadata": {},
   "source": [
    "### 5.1 Test the function"
   ]
  },
  {
   "cell_type": "code",
   "execution_count": 100,
   "metadata": {},
   "outputs": [
    {
     "data": {
      "text/html": [
       "<div>\n",
       "<style scoped>\n",
       "    .dataframe tbody tr th:only-of-type {\n",
       "        vertical-align: middle;\n",
       "    }\n",
       "\n",
       "    .dataframe tbody tr th {\n",
       "        vertical-align: top;\n",
       "    }\n",
       "\n",
       "    .dataframe thead th {\n",
       "        text-align: right;\n",
       "    }\n",
       "</style>\n",
       "<table border=\"1\" class=\"dataframe\">\n",
       "  <thead>\n",
       "    <tr style=\"text-align: right;\">\n",
       "      <th></th>\n",
       "      <th>Sepal length</th>\n",
       "      <th>Sepal width</th>\n",
       "      <th>Petal length</th>\n",
       "      <th>Petal width</th>\n",
       "      <th>Target</th>\n",
       "    </tr>\n",
       "  </thead>\n",
       "  <tbody>\n",
       "    <tr>\n",
       "      <th>0</th>\n",
       "      <td>5.1</td>\n",
       "      <td>3.5</td>\n",
       "      <td>1.4</td>\n",
       "      <td>0.2</td>\n",
       "      <td>Iris-setosa</td>\n",
       "    </tr>\n",
       "    <tr>\n",
       "      <th>1</th>\n",
       "      <td>4.9</td>\n",
       "      <td>3.0</td>\n",
       "      <td>1.4</td>\n",
       "      <td>0.2</td>\n",
       "      <td>Iris-setosa</td>\n",
       "    </tr>\n",
       "    <tr>\n",
       "      <th>2</th>\n",
       "      <td>4.7</td>\n",
       "      <td>3.2</td>\n",
       "      <td>1.3</td>\n",
       "      <td>0.2</td>\n",
       "      <td>Iris-setosa</td>\n",
       "    </tr>\n",
       "    <tr>\n",
       "      <th>3</th>\n",
       "      <td>4.6</td>\n",
       "      <td>3.1</td>\n",
       "      <td>1.5</td>\n",
       "      <td>0.2</td>\n",
       "      <td>Iris-setosa</td>\n",
       "    </tr>\n",
       "    <tr>\n",
       "      <th>4</th>\n",
       "      <td>5.0</td>\n",
       "      <td>3.6</td>\n",
       "      <td>1.4</td>\n",
       "      <td>0.2</td>\n",
       "      <td>Iris-setosa</td>\n",
       "    </tr>\n",
       "  </tbody>\n",
       "</table>\n",
       "</div>"
      ],
      "text/plain": [
       "   Sepal length  Sepal width  Petal length  Petal width       Target\n",
       "0           5.1          3.5           1.4          0.2  Iris-setosa\n",
       "1           4.9          3.0           1.4          0.2  Iris-setosa\n",
       "2           4.7          3.2           1.3          0.2  Iris-setosa\n",
       "3           4.6          3.1           1.5          0.2  Iris-setosa\n",
       "4           5.0          3.6           1.4          0.2  Iris-setosa"
      ]
     },
     "execution_count": 100,
     "metadata": {},
     "output_type": "execute_result"
    }
   ],
   "source": [
    "import pandas as pd\n",
    "\n",
    "# Load the Iris data\n",
    "df = pd.read_csv('https://archive.ics.uci.edu/ml/machine-learning-databases/iris/iris.data',\n",
    "                 names=['Sepal length', 'Sepal width', 'Petal length', 'Petal width', 'Target'],\n",
    "                 header=None)\n",
    "\n",
    "df.head()"
   ]
  },
  {
   "cell_type": "code",
   "execution_count": 107,
   "metadata": {},
   "outputs": [
    {
     "data": {
      "image/png": "[encoded data removed]",
      "text/plain": [
       "<Figure size 432x288 with 1 Axes>"
      ]
     },
     "metadata": {},
     "output_type": "display_data"
    }
   ],
   "source": [
    "import matplotlib.pyplot as plt\n",
    "\n",
    "# Get the labels, colors, and markers \n",
    "labels = [\"Iris-setosa\", \"Iris-versicolor\", \"Iris-virginica\"]\n",
    "colors = [\"red\", \"green\", \"blue\"]\n",
    "markers = [\"o\", \"*\", \"s\"]\n",
    "    \n",
    "scatter_plot(df, 'Petal length', 'Petal width', 'Target', labels, colors, markers)"
   ]
  }
 ],
 "metadata": {
  "kernelspec": {
   "display_name": "Python 3",
   "language": "python",
   "name": "python3"
  },
  "language_info": {
   "codemirror_mode": {
    "name": "ipython",
    "version": 3
   },
   "file_extension": ".py",
   "mimetype": "text/x-python",
   "name": "python",
   "nbconvert_exporter": "python",
   "pygments_lexer": "ipython3",
   "version": "3.6.5"
  }
 },
 "nbformat": 4,
 "nbformat_minor": 2
}
